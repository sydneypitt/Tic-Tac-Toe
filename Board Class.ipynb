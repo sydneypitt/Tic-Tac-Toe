{
 "cells": [
  {
   "cell_type": "code",
   "execution_count": 2,
   "metadata": {},
   "outputs": [],
   "source": [
    "class Board: \n",
    "    def __init__(self):\n",
    "        self.board = [' ', ' ', ' ', ' ', ' ', ' ', ' ', ' ', ' ']\n",
    "        \n",
    "    def draw_board(self):\n",
    "        to_print = self.board[0] + \" | \" + self.board[1] + \" | \" +  self.board[2] + \"\\n\"\n",
    "        to_print += \"––––––––––\\n\"\n",
    "        to_print += self.board[3] + \" | \" + self.board[4] + \" | \" +  self.board[5] + \"\\n\"\n",
    "        to_print += \"––––––––––\\n\"\n",
    "        to_print += self.board[6] + \" | \" + self.board[7] + \" | \" +  self.board[8] + \"\\n\"\n",
    "        return to_print\n",
    "    def update_board(self, letter, row, column):\n",
    "        if (row == 1 and column == 1):\n",
    "            self.board[0] = letter\n",
    "        elif (row == 1 and column == 2):\n",
    "            self.board[1] = letter\n",
    "        elif (row == 1 and column == 3):\n",
    "            self.board[2] = letter\n",
    "        elif (row == 2 and column == 1):\n",
    "            self.board[3] = letter\n",
    "        elif (row == 2 and column == 2):\n",
    "            self.board[4] = letter\n",
    "        elif (row == 2 and column == 3):\n",
    "            self.board[5] = letter\n",
    "        elif (row == 3 and column == 1):\n",
    "            self.board[6] = letter\n",
    "        elif (row == 3 and column == 2):\n",
    "            self.board[7] = letter\n",
    "        elif (row == 3 and column == 3):\n",
    "            self.board[8] = letter"
   ]
  },
  {
   "cell_type": "code",
   "execution_count": 3,
   "metadata": {},
   "outputs": [
    {
     "name": "stdout",
     "output_type": "stream",
     "text": [
      "  |   |  \n",
      "––––––––––\n",
      "  |   |  \n",
      "––––––––––\n",
      "  |   |  \n",
      "\n",
      "  |   |  \n",
      "––––––––––\n",
      "  | 0 |  \n",
      "––––––––––\n",
      "  |   |  \n",
      "\n",
      "  | X |  \n",
      "––––––––––\n",
      "  | 0 |  \n",
      "––––––––––\n",
      "  |   |  \n",
      "\n",
      "0 | X |  \n",
      "––––––––––\n",
      "  | 0 |  \n",
      "––––––––––\n",
      "  |   |  \n",
      "\n",
      "0 | X |  \n",
      "––––––––––\n",
      "  | 0 |  \n",
      "––––––––––\n",
      "  |   | X\n",
      "\n",
      "0 | X |  \n",
      "––––––––––\n",
      "  | 0 | 0\n",
      "––––––––––\n",
      "  |   | X\n",
      "\n",
      "0 | X |  \n",
      "––––––––––\n",
      "X | 0 | 0\n",
      "––––––––––\n",
      "  |   | X\n",
      "\n"
     ]
    }
   ],
   "source": [
    "board1 = Board()\n",
    "print(board1.draw_board())\n",
    "board1.update_board (\"0\", 2, 2)\n",
    "print (board1.draw_board())\n",
    "board1.update_board (\"X\", 1, 2)\n",
    "print (board1.draw_board())\n",
    "board1.update_board (\"0\", 1, 1)\n",
    "print (board1.draw_board())\n",
    "board1.update_board (\"X\", 3, 3)\n",
    "print (board1.draw_board())\n",
    "board1.update_board (\"0\", 2, 3)\n",
    "print (board1.draw_board())\n",
    "board1.update_board (\"X\", 2, 1)\n",
    "print (board1.draw_board())"
   ]
  },
  {
   "cell_type": "code",
   "execution_count": null,
   "metadata": {},
   "outputs": [],
   "source": []
  }
 ],
 "metadata": {
  "kernelspec": {
   "display_name": "Python 3",
   "language": "python",
   "name": "python3"
  },
  "language_info": {
   "codemirror_mode": {
    "name": "ipython",
    "version": 3
   },
   "file_extension": ".py",
   "mimetype": "text/x-python",
   "name": "python",
   "nbconvert_exporter": "python",
   "pygments_lexer": "ipython3",
   "version": "3.7.3"
  }
 },
 "nbformat": 4,
 "nbformat_minor": 2
}
